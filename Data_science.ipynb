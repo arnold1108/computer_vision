{
  "nbformat": 4,
  "nbformat_minor": 0,
  "metadata": {
    "colab": {
      "provenance": [],
      "authorship_tag": "ABX9TyMXMyo1/N7HQUqUTMjwocp6",
      "include_colab_link": true
    },
    "kernelspec": {
      "name": "python3",
      "display_name": "Python 3"
    },
    "language_info": {
      "name": "python"
    }
  },
  "cells": [
    {
      "cell_type": "markdown",
      "metadata": {
        "id": "view-in-github",
        "colab_type": "text"
      },
      "source": [
        "<a href=\"https://colab.research.google.com/github/arnold1108/computer_vision/blob/main/Data_science.ipynb\" target=\"_parent\"><img src=\"https://colab.research.google.com/assets/colab-badge.svg\" alt=\"Open In Colab\"/></a>"
      ]
    },
    {
      "cell_type": "markdown",
      "source": [
        "# Ingest\n"
      ],
      "metadata": {
        "id": "oM4VB5o8bnrE"
      }
    },
    {
      "cell_type": "code",
      "execution_count": 1,
      "metadata": {
        "id": "I157E1LDbUBR"
      },
      "outputs": [],
      "source": [
        "import pandas as pd"
      ]
    },
    {
      "cell_type": "markdown",
      "source": [
        "# EDA"
      ],
      "metadata": {
        "id": "pu09NBhsbuPF"
      }
    },
    {
      "cell_type": "code",
      "source": [],
      "metadata": {
        "id": "4JAhKWC4bvDx"
      },
      "execution_count": null,
      "outputs": []
    },
    {
      "cell_type": "markdown",
      "source": [
        "# Modelling\n"
      ],
      "metadata": {
        "id": "fOvHQIDBbxbx"
      }
    },
    {
      "cell_type": "code",
      "source": [],
      "metadata": {
        "id": "oX0VdhMGby8L"
      },
      "execution_count": null,
      "outputs": []
    },
    {
      "cell_type": "markdown",
      "source": [
        "#Conclusion"
      ],
      "metadata": {
        "id": "FTp2OjQrbzgT"
      }
    },
    {
      "cell_type": "code",
      "source": [],
      "metadata": {
        "id": "nFyrCAwob1Jt"
      },
      "execution_count": null,
      "outputs": []
    }
  ]
}